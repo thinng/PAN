{
 "cells": [
  {
   "cell_type": "code",
   "execution_count": 1,
   "metadata": {},
   "outputs": [
    {
     "name": "stdout",
     "output_type": "stream",
     "text": [
      "100\n",
      "Done creating LIONESS graph!\n"
     ]
    }
   ],
   "source": [
    "from utils import *\n",
    "import pandas as pd\n",
    "import warnings\n",
    "warnings.filterwarnings('ignore')\n",
    "\n",
    "# from output by LIONESS to fully connected graphs with continuous weights\n",
    "df = pd.read_csv('output_data/lioness.txt',sep='\\t',header=None)\n",
    "df = df.T\n",
    "NUM_COL = int(pow(df.shape[1],.5))\n",
    "print(NUM_COL)\n",
    "#save fully connected graphs with continuous weights to'lioness_graph.csv' \n",
    "with open('output_data/lioness_graph.csv','w') as f:\n",
    "    ls = [] \n",
    "    for i in range(NUM_COL-1):\n",
    "        for j in range(i+1,NUM_COL):\n",
    "            ls += [ str(i) + '_' + str(j) ]\n",
    "    f.write(','.join(ls) + '\\n')\n",
    "    for r in df.values:\n",
    "        m = r.reshape((NUM_COL,NUM_COL))\n",
    "        ls = [] \n",
    "        for i in range(NUM_COL-1):\n",
    "            for j in range(i+1,NUM_COL):\n",
    "                ls += [ m[i][j] ]\n",
    "        f.write(','.join(map(str,ls)) + '\\n') \n",
    "        \n",
    "NUM_EDGE = 200 # number of edges for adjacency graph\n",
    "# turn graphs with continous weights to adjacency graph\n",
    "GG = to_adjacency_G('output_data/lioness_graph.csv',NUM_EDGE)\n",
    "# get features for this adjacency graph\n",
    "feats = get_closeness_centrality(GG)\n",
    "# store the feature in 'pan_graph_feature.csv'\n",
    "with open('output_data/lioness_graph_feature.csv', 'w') as f:\n",
    "    for e in feats:\n",
    "        f.write(','.join(map(str,e)) + '\\n') \n",
    "print('Done creating LIONESS graph!')         "
   ]
  }
 ],
 "metadata": {
  "kernelspec": {
   "display_name": "Python 3",
   "language": "python",
   "name": "python3"
  },
  "language_info": {
   "codemirror_mode": {
    "name": "ipython",
    "version": 3
   },
   "file_extension": ".py",
   "mimetype": "text/x-python",
   "name": "python",
   "nbconvert_exporter": "python",
   "pygments_lexer": "ipython3",
   "version": "3.6.8"
  }
 },
 "nbformat": 4,
 "nbformat_minor": 2
}
